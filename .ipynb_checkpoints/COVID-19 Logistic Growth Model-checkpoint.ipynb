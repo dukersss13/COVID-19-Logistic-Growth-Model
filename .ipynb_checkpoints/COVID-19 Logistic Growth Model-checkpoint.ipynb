{
 "cells": [
  {
   "cell_type": "code",
   "execution_count": 1,
   "metadata": {},
   "outputs": [],
   "source": [
    "import numpy as np\n",
    "import pandas as pd\n",
    "import matplotlib.pyplot as plt\n",
    "import matplotlib as mpl\n",
    "from sklearn.metrics import mean_squared_error\n",
    "from scipy.optimize import curve_fit\n",
    "from datetime import datetime  \n",
    "from datetime import timedelta, date\n",
    "from scipy.optimize import fsolve\n",
    "from ipywidgets import interact, interactive, fixed, interact_manual\n",
    "import ipywidgets as widgets\n",
    "plt.style.use('seaborn')\n",
    "%matplotlib inline"
   ]
  },
  {
   "cell_type": "code",
   "execution_count": 2,
   "metadata": {},
   "outputs": [],
   "source": [
    "global_confirmed_url = \"https://raw.githubusercontent.com/CSSEGISandData/COVID-19/master/csse_covid_19_data/csse_covid_19_time_series/time_series_covid19_confirmed_global.csv\"\n",
    "global_deaths_url = \"https://raw.githubusercontent.com/CSSEGISandData/COVID-19/master/csse_covid_19_data/csse_covid_19_time_series/time_series_covid19_deaths_global.csv\"\n",
    "\n",
    "US_confirmed_url = \"https://raw.githubusercontent.com/CSSEGISandData/COVID-19/master/csse_covid_19_data/csse_covid_19_time_series/time_series_covid19_confirmed_US.csv\"\n",
    "US_deaths_url = \"https://raw.githubusercontent.com/CSSEGISandData/COVID-19/master/csse_covid_19_data/csse_covid_19_time_series/time_series_covid19_deaths_US.csv\""
   ]
  },
  {
   "cell_type": "code",
   "execution_count": 3,
   "metadata": {},
   "outputs": [],
   "source": [
    "# Filter data by country\n",
    "def clean_country(url1, url2):\n",
    "    data1 = pd.read_csv(url1)\n",
    "    data2 = pd.read_csv(url2)\n",
    "    country_list = data1['Country/Region'].values\n",
    "    country = str(input(\"Select a country: \"))\n",
    "    while not country in country_list:\n",
    "        country = str(input(\"Cannot find that country. Try again: \"))\n",
    "    choice = data1['Country/Region'] == country\n",
    "    data1 = data1[choice]\n",
    "    data1 = data1.loc[:,'1/22/20':]\n",
    "    data1 = data1.sum()\n",
    "    data2 = data2[choice]\n",
    "    data2 = data2.loc[:,'1/22/20':]\n",
    "    data2 = data2.sum()\n",
    "    days = list(range(0,len(data1)))\n",
    "    return country, days, data1, data2\n",
    "\n",
    "# Filter data by state in U.S\n",
    "def clean_state(url1, url2):\n",
    "    data1 = pd.read_csv(url1)\n",
    "    data2 = pd.read_csv(url2)\n",
    "    state_list = data1['Province_State'].values\n",
    "    state = str(input(\"Select a U.S state: \"))\n",
    "    while not state in state_list:\n",
    "        state = str(input(\"Cannot find that state. Try again: \"))\n",
    "    filtER = data1['Province_State'] == state\n",
    "    data1 = data1[filtER]\n",
    "    data2 = data2[filtER]\n",
    "    data1 = data1.loc[:,'1/22/20':]\n",
    "    data2 = data2.loc[:,'1/22/20':]\n",
    "    data1 = data1.sum()\n",
    "    data2 = data2.sum()\n",
    "    days = list(range(0,len(data1)))\n",
    "    return state, days, data1, data2\n",
    "\n",
    "def convert_date(delta_list):\n",
    "    dates = []\n",
    "    t0 = date(2020,11,22)\n",
    "    for i in delta_list:\n",
    "        datez = t0 + timedelta(days = i)\n",
    "        datez = datez.strftime(\"%m/%d/%Y\")\n",
    "        dates.append(datez)\n",
    "    return dates"
   ]
  },
  {
   "cell_type": "markdown",
   "metadata": {},
   "source": [
    "Reported confirmed,deaths, and recovered cases in the U.S.\n",
    " \n",
    "This model's main assumption is human intervention. "
   ]
  },
  {
   "cell_type": "code",
   "execution_count": 5,
   "metadata": {},
   "outputs": [],
   "source": [
    "def logistic_model(t,k,t_star,M):\n",
    "    return (M)/(1+np.exp(-(t-t_star)/k))"
   ]
  },
  {
   "cell_type": "code",
   "execution_count": 6,
   "metadata": {},
   "outputs": [],
   "source": [
    "# The error function calculates the % error of yesterday's predictions vs. today's data\n",
    "def error(function, x, y, z):\n",
    "    #delta = today - t0\n",
    "    fit = curve_fit(function, x[:-2], y[:-2])\n",
    "    param = fit[0]\n",
    "    rate = param[0]\n",
    "    t_star = param[1]\n",
    "    carry_cap = param[2]\n",
    "    \n",
    "    mortality_rate = (z[-2])/(y[-2]) # Latest total confirmed deaths / total confirmed cases\n",
    "    predicted_deaths = mortality_rate * carry_cap\n",
    "    \n",
    "    #days_til_today = delta.days \n",
    "    pred_inf = logistic_model(x[-1], rate, t_star, carry_cap)\n",
    "    \n",
    "    inf_error = abs((pred_inf - y[-1])/y[-1])\n",
    "    deaths_error = abs((predicted_deaths - z[-1])/ z[-1])\n",
    "    return x[-1], pred_inf, inf_error, deaths_error"
   ]
  },
  {
   "cell_type": "code",
   "execution_count": 11,
   "metadata": {},
   "outputs": [],
   "source": [
    "def analyze(function, x, y, z, location):\n",
    "    t0 = date(2020,1,22)\n",
    "    \n",
    "    # Function will return rate of change, t* & carrying capacity\n",
    "    fit = curve_fit(function, x, y)\n",
    "    param = fit[0]\n",
    "    cov = fit[1]\n",
    "    rate = param[0]\n",
    "    t_star = param[1]\n",
    "    carry_cap = param[2]\n",
    "    errors = [np.sqrt(cov[i][i]) for i in [0,1,2]]\n",
    "    \n",
    "    mortality_rate = (z[-1])/(y[-1]) # Latest total confirmed deaths / total confirmed cases\n",
    "    exp_deaths = mortality_rate * carry_cap # Expected end date deaths = MR * Carrying Capacity\n",
    "    \n",
    "    # Printing out the data\n",
    "    print(\"The current infected population in\",location, \"is\", int(y[-1]))\n",
    "    print(\"The current mortality rate is\", round((mortality_rate*100),2),\"%\")\n",
    "    print(\"The current infection rate is\", int(rate))\n",
    "    print(\"Today's number of new cases is\", (y[-1] - y[-2]))\n",
    "    \n",
    "    if t_star < 365:\n",
    "        t_starDate = t0 + timedelta(days = t_star)\n",
    "        t_starDate= t_starDate.strftime(\"%m/%d/%Y\")\n",
    "        print(\"The date with the highest infection rate\", t_starDate)\n",
    "    elif t_star >= 365:\n",
    "        print(\"The date with the highest infection rate cannot be calculated at this time.\")\n",
    "    print(\"The carrying capacity is\", int(carry_cap), \"+/-\", int(errors[2]), \"people\")\n",
    "    # Calculating the percentage error from yesterday's predictions\n",
    "    days_til_today, pred_inf, inf_error, deaths_error = error(function, x, y, z)\n",
    "    \n",
    "    # Predicting tomorrow's infections & deaths\n",
    "    tomorrow = date.today() + timedelta(days = 1)\n",
    "    tomorrow_date = tomorrow.strftime(\"%m/%d/%Y\")\n",
    "    days_til_tomorrow = x[-1] + 1\n",
    "    \n",
    "    exp_inf = logistic_model(days_til_tomorrow, rate, t_star, carry_cap)\n",
    "    tmr_exp_inf = abs(exp_inf - y[-1])\n",
    "    \n",
    "    print(\"The estimated number of new cases for\", tomorrow_date, \"is\", int(tmr_exp_inf), \"+/-\", \n",
    "          int(inf_error*tmr_exp_inf), \"people\")\n",
    "    \n",
    "    tmr_exp_deaths = int(mortality_rate * (y[-1] - y[-2]))\n",
    "    print(\"The estimated number of new deaths for\", tomorrow_date, \"is\", tmr_exp_deaths,\"+/-\", \n",
    "        int(deaths_error*tmr_exp_deaths),\"people\")\n",
    "    \n",
    "    # Plotting the logistic curve\n",
    "    plt.figure(figsize=(6, 6))\n",
    "    \n",
    "    # Real data\n",
    "    plt.scatter(x, y ,label = \"Real Data\", color = \"r\")\n",
    "    \n",
    "     # Predicted logistic curve\n",
    "        \n",
    "    plt.scatter(days_til_tomorrow, exp_inf, linewidth = 1, color = 'k', label = \"Tomorrow's Prediction\")\n",
    "    \n",
    "    # Solving & predicting the end date\n",
    "    pred_list = []\n",
    "    \n",
    "    if t_star < 365:\n",
    "        sol = int(fsolve(lambda x : function(x,rate,t_star,carry_cap) - int(carry_cap), t_star))\n",
    "        EndDate = t0 + timedelta(days = sol)\n",
    "        EndDatenew = EndDate.strftime(\"%m/%d/%Y\")\n",
    "        EndDate_MR = (exp_deaths/carry_cap)*100\n",
    "        pred_x = list(range(max(x),sol))\n",
    "        future = x[:-1] + pred_x\n",
    "\n",
    "        for i in future:\n",
    "            pred = logistic_model(i, rate, t_star, carry_cap)\n",
    "            pred_list.append(pred)\n",
    "        peak_days = future[np.argmax(pred_list)]\n",
    "        peak_date = t0 + timedelta(days = peak_days)\n",
    "        peak_date = peak_date.strftime(\"%m/%d/%Y\")\n",
    "\n",
    "        plt.plot(future, pred_list, linestyle = '--', lw = 2, label = \"Logistic Curve\")\n",
    "            \n",
    "        plt.title(\"COVID-19 Logistic Curve in \"+ location, fontsize = 15)\n",
    "        plt.legend(loc = 'best', fontsize = 13)\n",
    "        plt.xlabel(\"Days after Jan 22, 2020\", fontsize = 13)\n",
    "        plt.ylabel(\"Total Number of Infected People\", fontsize = 13)\n",
    "        plt.ylim((min(y),carry_cap*1.1))\n",
    "        plt.xticks(fontsize = 13)\n",
    "        plt.yticks(fontsize = 13)\n",
    "        plt.show()\n",
    "\n",
    "        print(\"The estimated end date is\", EndDatenew)\n",
    "        print(\"The estimated number of deaths by end date is\", int(exp_deaths))\n",
    "        print(\"The expected end date mortality rate is\", round(EndDate_MR,2),\"%\")\n",
    "    elif t_star >= 365:\n",
    "        print(\"The estimated end & peak date cannot be calculated at this time\")"
   ]
  },
  {
   "cell_type": "code",
   "execution_count": 12,
   "metadata": {},
   "outputs": [],
   "source": [
    "def menu(global_confirmed_url, global_deaths_url, US_confirmed_url, US_deaths_url):\n",
    "    selection = 0\n",
    "    while selection != 3:\n",
    "        print(\"1. Analyze a country\")\n",
    "        print(\"2. Analyze a U.S state or region\")\n",
    "        print(\"3. Quit\")\n",
    "        selection = int(input(\"Please enter a selection: \"))\n",
    "        if selection == 1:\n",
    "            country, days, country_confirmed, country_deaths = clean_country(global_confirmed_url, global_deaths_url)\n",
    "            analyze(logistic_model, days, country_confirmed, country_deaths, country)\n",
    "        elif selection == 2:\n",
    "            state, days, state_confirmed, state_deaths = clean_state(US_confirmed_url, US_deaths_url)\n",
    "            analyze(logistic_model, days, state_confirmed, state_deaths, state)\n",
    "        elif selection == 3:\n",
    "            print(\"Goodbye & stay healthy!\")\n",
    "            break"
   ]
  },
  {
   "cell_type": "code",
   "execution_count": null,
   "metadata": {},
   "outputs": [
    {
     "name": "stdout",
     "output_type": "stream",
     "text": [
      "1. Analyze a country\n",
      "2. Analyze a U.S state or region\n",
      "3. Quit\n"
     ]
    }
   ],
   "source": [
    "menu(global_confirmed_url, global_deaths_url, US_confirmed_url, US_deaths_url)"
   ]
  },
  {
   "cell_type": "markdown",
   "metadata": {},
   "source": [
    "# The following visual is for a different project.\n",
    "# We are interested in seeing how effective was the stay-at-home order enforced in California"
   ]
  },
  {
   "cell_type": "code",
   "execution_count": 10,
   "metadata": {},
   "outputs": [],
   "source": [
    "def clean_state2(url1, url2):\n",
    "    data1 = pd.read_csv(url1)\n",
    "    data2 = pd.read_csv(url2)\n",
    "    state_list = data1['Province_State'].values\n",
    "    state = str(input(\"Select a U.S state: \"))\n",
    "    while not state in state_list:\n",
    "        state = str(input(\"Cannot find that state. Try again: \"))\n",
    "    filtER = data1['Province_State'] == state\n",
    "    data1 = data1[filtER]\n",
    "    data2 = data2[filtER]\n",
    "    data1 = data1.loc[:,'1/22/20':]\n",
    "    data2 = data2.loc[:,'1/22/20':]\n",
    "    data1 = data1.sum()\n",
    "    data2 = data2.sum()\n",
    "    days = list(range(0,len(data1)))\n",
    "    return days, data1, data2"
   ]
  },
  {
   "cell_type": "code",
   "execution_count": 11,
   "metadata": {},
   "outputs": [
    {
     "name": "stdout",
     "output_type": "stream",
     "text": [
      "Select a U.S state: California\n"
     ]
    }
   ],
   "source": [
    "days, confirmed, deaths = clean_state2(US_confirmed_url, US_deaths_url)"
   ]
  },
  {
   "cell_type": "code",
   "execution_count": 19,
   "metadata": {},
   "outputs": [],
   "source": [
    "df = pd.DataFrame({\"Days after Jan 22\": days, \"Confirmed Cases\": confirmed, \"Deaths\": deaths})\n",
    "filt = df['Confirmed Cases'] != 0\n",
    "filt2 = df['Days after Jan 22'] <= 57\n",
    "filt3 = df['Days after Jan 22'] > 57\n",
    "filt4 = df['Deaths'] != 0"
   ]
  },
  {
   "cell_type": "code",
   "execution_count": 20,
   "metadata": {},
   "outputs": [],
   "source": [
    "pre_df = df[filt & filt2]\n",
    "pre_df2 = df[filt2 & filt4]"
   ]
  },
  {
   "cell_type": "code",
   "execution_count": 21,
   "metadata": {},
   "outputs": [],
   "source": [
    "post_df = df[filt & filt3]\n",
    "post_df2 = df[filt3 & filt4]"
   ]
  },
  {
   "cell_type": "code",
   "execution_count": 22,
   "metadata": {},
   "outputs": [],
   "source": [
    "new_cases1 = []\n",
    "\n",
    "i = 0\n",
    "while i < (len(pre_df) - 1):\n",
    "    new = pre_df['Confirmed Cases'][i + 1] - pre_df['Confirmed Cases'][i]\n",
    "    new_cases1.append(new)\n",
    "    i += 1"
   ]
  },
  {
   "cell_type": "code",
   "execution_count": 23,
   "metadata": {},
   "outputs": [],
   "source": [
    "new_cases2 = []\n",
    "\n",
    "i = 0\n",
    "while i < (len(post_df) - 1):\n",
    "    new = post_df['Confirmed Cases'][i + 1] - post_df['Confirmed Cases'][i]\n",
    "    new_cases2.append(new)\n",
    "    i += 1"
   ]
  },
  {
   "cell_type": "code",
   "execution_count": 24,
   "metadata": {},
   "outputs": [],
   "source": [
    "x1 = pre_df['Days after Jan 22'][:-1]\n",
    "y1 = new_cases1\n",
    "\n",
    "z1 = np.polyfit(x1, y1, 6)\n",
    "p1 = np.poly1d(z1)\n",
    "\n",
    "x2 = post_df['Days after Jan 22'][:-1]\n",
    "y2 = new_cases2\n",
    "\n",
    "z2 = np.polyfit(x2, y2, 6)\n",
    "p2 = np.poly1d(z2)"
   ]
  },
  {
   "cell_type": "code",
   "execution_count": 25,
   "metadata": {},
   "outputs": [
    {
     "data": {
      "image/png": "[encoded data removed]",
      "text/plain": [
       "<Figure size 576x360 with 1 Axes>"
      ]
     },
     "metadata": {},
     "output_type": "display_data"
    },
    {
     "data": {
      "image/png": "[encoded data removed]",
      "text/plain": [
       "<Figure size 576x360 with 1 Axes>"
      ]
     },
     "metadata": {},
     "output_type": "display_data"
    }
   ],
   "source": [
    "plt.style.use('seaborn')\n",
    "\n",
    "plt.figure(figsize = (8,5))\n",
    "plt.bar(x1, new_cases1)\n",
    "plt.plot(x1, p1(x1), \"k-\")\n",
    "plt.xlabel(\"Days after Jan 22nd\", fontsize = 13)\n",
    "plt.ylabel(\"New Confirmed Cases\", fontsize = 13)\n",
    "plt.title(\"Pre Stay-at-Home Trend (CA)\", fontsize = 13)\n",
    "plt.xlim(0,)\n",
    "plt.ylim(0,)\n",
    "plt.xticks(fontsize = 12)\n",
    "plt.yticks(fontsize = 12)\n",
    "plt.title(\"Pre Stay-at-Home Trend (CA)\")\n",
    "\n",
    "plt.figure(figsize = (8,5))\n",
    "plt.bar(x2, new_cases2, color = 'r')\n",
    "plt.plot(x2, p2(x2), 'b-')\n",
    "plt.xlabel(\"Days after Jan 22nd\", fontsize = 13)\n",
    "plt.ylabel(\"New Confirmed Cases\", fontsize = 13)\n",
    "plt.title(\"Post Stay-at-Home Trend (CA)\", fontsize = 13)\n",
    "plt.xlim(50,110)\n",
    "plt.ylim(0,2800)\n",
    "plt.xticks(fontsize = 12)\n",
    "plt.yticks(fontsize = 12)\n",
    "plt.show()"
   ]
  }
 ],
 "metadata": {
  "kernelspec": {
   "display_name": "Python 3",
   "language": "python",
   "name": "python3"
  },
  "language_info": {
   "codemirror_mode": {
    "name": "ipython",
    "version": 3
   },
   "file_extension": ".py",
   "mimetype": "text/x-python",
   "name": "python",
   "nbconvert_exporter": "python",
   "pygments_lexer": "ipython3",
   "version": "3.7.4"
  }
 },
 "nbformat": 4,
 "nbformat_minor": 2
}
