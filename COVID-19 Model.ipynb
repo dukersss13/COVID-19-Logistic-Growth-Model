{
 "cells": [
  {
   "cell_type": "code",
   "execution_count": 1,
   "metadata": {},
   "outputs": [],
   "source": [
    "import numpy as np\n",
    "import pandas as pd\n",
    "import matplotlib.pyplot as plt\n",
    "from sklearn.metrics import mean_squared_error\n",
    "from scipy.optimize import curve_fit\n",
    "from datetime import datetime  \n",
    "from datetime import timedelta, date\n",
    "from scipy.optimize import fsolve\n",
    "from scipy.optimize import brentq\n",
    "plt.style.use('seaborn')\n",
    "%matplotlib inline"
   ]
  },
  {
   "cell_type": "code",
   "execution_count": 2,
   "metadata": {},
   "outputs": [],
   "source": [
    "global_confirmed_url = \"https://raw.githubusercontent.com/CSSEGISandData/COVID-19/master/csse_covid_19_data/csse_covid_19_time_series/time_series_covid19_confirmed_global.csv\"\n",
    "global_deaths_url = \"https://raw.githubusercontent.com/CSSEGISandData/COVID-19/master/csse_covid_19_data/csse_covid_19_time_series/time_series_covid19_deaths_global.csv\"\n",
    "\n",
    "US_confirmed_url = \"https://raw.githubusercontent.com/CSSEGISandData/COVID-19/master/csse_covid_19_data/csse_covid_19_time_series/time_series_covid19_confirmed_US.csv\"\n",
    "US_deaths_url = \"https://raw.githubusercontent.com/CSSEGISandData/COVID-19/master/csse_covid_19_data/csse_covid_19_time_series/time_series_covid19_deaths_US.csv\""
   ]
  },
  {
   "cell_type": "code",
   "execution_count": 3,
   "metadata": {},
   "outputs": [],
   "source": [
    "# Filter data by country\n",
    "def clean_country(url1, url2):\n",
    "    country = str(input(\"Select a country: \"))\n",
    "    data1 = pd.read_csv(url1)\n",
    "    data2 = pd.read_csv(url2)\n",
    "    choice = data1['Country/Region'] == country\n",
    "    data1 = data1[choice]\n",
    "    data1 = data1.iloc[:,4:]\n",
    "    data1 = data1.sum()\n",
    "    days = np.arange(len(data1))\n",
    "    data2 = data2[choice]\n",
    "    data2 = data2.iloc[:,4:]\n",
    "    data2 = data2.sum()\n",
    "    days = np.arange(len(data1))\n",
    "    return country, days, data1, data2\n",
    "\n",
    "# Filter data by state in U.S\n",
    "def clean_state(url1, url2):\n",
    "    data1 = pd.read_csv(url1)\n",
    "    data2 = pd.read_csv(url2)\n",
    "    state = str(input(\"Select a US state/region: \"))\n",
    "    filtER = data1['Province_State'] == state\n",
    "    data1 = data1[filtER]\n",
    "    data2 = data2[filtER]\n",
    "    data1 = data1.iloc[:,11:]\n",
    "    data2 = data2.iloc[:,12:]\n",
    "    data1 = data1.sum()\n",
    "    data2 = data2.sum()\n",
    "    days = np.arange(len(data1))\n",
    "    return state, days, data1, data2"
   ]
  },
  {
   "cell_type": "code",
   "execution_count": 4,
   "metadata": {},
   "outputs": [],
   "source": [
    "# Reported confirmed,deaths, and recovered cases in the U.S.\n",
    "# This model's main assumption is human intervention. "
   ]
  },
  {
   "cell_type": "code",
   "execution_count": 5,
   "metadata": {},
   "outputs": [],
   "source": [
    "def logistic_model(t,k,t_star,M):\n",
    "    return (M)/(1+np.exp(-(t-t_star)/k))\n",
    "\n",
    "# The error function calculates the % error of yesterday's predictions vs. today's data\n",
    "def error(function, x, y, z):\n",
    "    t0 = date(2020,1,22)\n",
    "    today = date.today()\n",
    "    delta = today - t0\n",
    "    fit = curve_fit(function, x[:-2], y[:-2])\n",
    "    param = fit[0]\n",
    "    rate = param[0]\n",
    "    t_star = param[1]\n",
    "    carry_cap = param[2]\n",
    
    "    mortality_rate = (z[-2])/(y[-2]) # Latest total confirmed deaths / total confirmed cases\n",
    "    predicted_deaths = mortality_rate * carry_cap\n",
    "    \n",
    "    t_starDate = t0 + timedelta(days = t_star)\n",
    "    days_til_today = delta.days \n",
    "    pred_inf = logistic_model(days_til_today, rate, t_star, carry_cap)\n",
    "    \n",
    "    inf_error = abs((pred_inf - y[-1])/y[-1])\n",
    "    deaths_error = abs((predicted_deaths - z[-1])/ z[-1])\n",
    "    return inf_error, deaths_error"
   ]
  },
  {
   "cell_type": "code",
   "execution_count": 13,
   "metadata": {},
   "outputs": [],
   "source": [
    "def analyze(function, x, y, z, location):\n",
    "    t0 = date(2020,1,22)\n",
    "    \n",
    "    # Function will return rate of change, t* & carrying capacity\n",
    "    fit = curve_fit(function, x, y)\n",
    "    param = fit[0]\n",
    "    cov = fit[1]\n",
    "    rate = param[0]\n",
    "    t_star = param[1]\n",
    "    carry_cap = param[2]\n",
    "    errors = [np.sqrt(cov[i][i]) for i in [0,1,2]]\n",
    "    \n",
    "    mortality_rate = (z[-1])/(y[-1]) # Latest total confirmed deaths / total confirmed cases\n",
    "    exp_deaths = mortality_rate * carry_cap # Expected end date deaths = MR * Carrying Capacity\n",
    "\n",
    "    print(\"The current infected population is\", int(y[-1]))\n",
    "    print(\"The current mortality rate is\", round((mortality_rate*100),0),\"%\")\n",
    "    \n",
    "    # Printing out the data\n",
    "    t_starDate = t0 + timedelta(days= t_star)\n",
    "    t_starDate= t_starDate.strftime(\"%m/%d/%Y\")\n",
    "    print(\"The infection rate is\", round(rate,0), \"with the standard error of\", round(errors[0],3))\n",
    "    print(\"The date with the highest infection rate\", t_starDate)\n",
    "    print(\"The estimated carrying capacity is\", int(carry_cap), \"+/-\", int(errors[2]),\"people\")\n",
    "    \n",
    "    # Calculating the percentage error from yesterday's predictions\n",
    "    inf_error, deaths_error = error(function, x, y, z)\n",
    "    \n",
    "    # Predicting tomorrow's infections & deaths\n",
    "    tomorrow = date.today() + timedelta(days=1)\n",
    "    tomorrow_date = tomorrow.strftime(\"%m/%d/%Y\")\n",
    "    delta = tomorrow - t0 # Days between tomorrow's date & 1/22/20\n",
    "    days_til_tomorrow = delta.days \n",
    "    \n",
    "    exp_inf = logistic_model(days_til_tomorrow, rate, t_star, carry_cap)\n",
    "    tmr_exp_inf = exp_inf - y[-1]\n",
    "    \n",
    "    print(\"The estimated number of new cases for\", tomorrow_date, \"is\", int(tmr_exp_inf), \"+/-\", \n",
    "          int(inf_error*tmr_exp_inf), \"people\")\n",
    "    \n",
    "   \n",
    "    tmr_exp_deaths = int(mortality_rate * tmr_exp_inf)\n",
    "    print(\"The estimated number of new deaths for\", tomorrow_date, \"is\", tmr_exp_deaths,\"+/-\", \n",
    "          int(deaths_error*tmr_exp_deaths),\"people\")\n",
    "    \n",
    "    # Plotting the logistic curve\n",
    "    plt.figure(figsize=(6, 6))\n",
    "    \n",
    "    # Real data\n",
    "    plt.scatter(x, y ,label = \"Real Data\", color = \"r\")\n",
    "    # Predicted logistic curve\n",
    "    plt.scatter(days_til_tomorrow, exp_inf, linewidth = 1, color = 'k', label = \"Tomorrow's Prediction\")\n",
    "    \n",
    "    # Solving & predicting the end date\n",
    "    sol = int(fsolve(lambda x : function(x,rate,t_star,carry_cap) - int(carry_cap), t_star))\n",
    "    EndDate = t0 + timedelta(days = sol)\n",
    "    EndDatenew = EndDate.strftime(\"%m/%d/%Y\")\n",
    "    EndDate_MR = (exp_deaths/carry_cap)*100\n",
    "    \n",
    "    pred_x = list(range(max(x),sol))\n",
    "    z = list(x) + pred_x\n",
    "    plt.plot(z, [logistic_model(i,rate,t_star,carry_cap) for i in z], linestyle = '--', lw = 2, label = \"Logistic Model\")\n",
    "    plt.title(\"COVID-19 Logistic Curve in \"+ location, fontsize = 15)\n",
    "    plt.legend(fontsize = 13)\n",
    "    plt.xlabel(\"Days since Jan 22nd 2020\", fontsize = 13)\n",
    "    plt.ylabel(\"Total Number of Infected People\", fontsize = 13)\n",
    "    plt.ylim((min(y),carry_cap*1.1))\n",
    "    plt.xticks(fontsize = 13)\n",
    "    plt.yticks(fontsize = 13)\n",
    "    plt.show()\n",
    "    print(\"The expected end date is\", EndDatenew)\n",
    "    print(\"The expected number of deaths is\", int(exp_deaths))\n",
    "    print(\"The expected end date mortality rate is\", round(EndDate_MR,0),\"%\")"
   ]
  },
  {
   "cell_type": "code",
   "execution_count": 14,
   "metadata": {},
   "outputs": [],
   "source": [
    "def menu(global_confirmed_url,global_deaths_url, US_confirmed_url, US_deaths_url):\n",
    "    selection = 0\n",
    "    while selection != 3:\n",
    "        print(\"1. Analyze a country\")\n",
    "        print(\"2. Analyze a U.S state or region\")\n",
    "        print(\"3. Quit\")\n",
    "        selection = int(input(\"Please enter a selection: \"))\n",
    "        if selection == 1:\n",
    "            country, days, country_confirmed, country_deaths = clean_country(global_confirmed_url, global_deaths_url)\n",
    "            analyze(logistic_model, days, country_confirmed, country_deaths, country)\n",
    "        elif selection == 2:\n",
    "            state, days, state_confirmed, state_deaths = clean_state(US_confirmed_url, US_deaths_url)\n",
    "            analyze(logistic_model, days, state_confirmed, state_deaths, state)\n",
    "        elif selection == 3:\n",
    "            print(\"Goodbye & stay healthy!\")\n",
    "            break"
   ]
  },
  {
   "cell_type": "code",
   "execution_count": 15,
   "metadata": {},
   "outputs": [
    {
     "name": "stdout",
     "output_type": "stream",
     "text": [
      "1. Analyze a country\n",
      "2. Analyze a U.S state or region\n",
      "3. Quit\n",
      "Please enter a selection: 1\n",
      "Select a country: US\n",
      "The current infected population is 188172\n",
      "The current mortality rate is 2.0 %\n",
      "The infection rate is 3.0 with the standard error of 0.045\n",
      "The date with the highest infection rate 03/29/2020\n",
      "The estimated carrying capacity is 300787 +/- 6693 people\n",
      "The estimated number of new cases for 04/01/2020 is 17038 +/- 1047 people\n",
      "The estimated number of new deaths for 04/01/2020 is 350 +/- 70 people\n"
     ]
    },
    {
     "data": {
      "image/png": "[encoded data removed]",
      "text/plain": [
       "<Figure size 432x432 with 1 Axes>"
      ]
     },
     "metadata": {
      "needs_background": "light"
     },
     "output_type": "display_data"
    },
    {
     "name": "stdout",
     "output_type": "stream",
     "text": [
      "The expected end date is 05/12/2020\n",
      "The expected number of deaths is 6190\n",
      "The expected end date mortality rate is 2.0 %\n",
      "1. Analyze a country\n",
      "2. Analyze a U.S state or region\n",
      "3. Quit\n",
      "Please enter a selection: 3\n",
      "Goodbye & stay healthy!\n"
     ]
    }
   ],
   "source": [
    "menu(global_confirmed_url, global_deaths_url, US_confirmed_url, US_deaths_url)"
   ]
  },
  {
   "cell_type": "code",
   "execution_count": null,
   "metadata": {},
   "outputs": [],
   "source": []
  }
 ],
 "metadata": {
  "kernelspec": {
   "display_name": "Python 3",
   "language": "python",
   "name": "python3"
  },
  "language_info": {
   "codemirror_mode": {
    "name": "ipython",
    "version": 3
   },
   "file_extension": ".py",
   "mimetype": "text/x-python",
   "name": "python",
   "nbconvert_exporter": "python",
   "pygments_lexer": "ipython3",
   "version": "3.7.4"
  }
 },
 "nbformat": 4,
 "nbformat_minor": 2
}
